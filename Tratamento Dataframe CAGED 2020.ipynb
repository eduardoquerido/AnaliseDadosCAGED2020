{
 "cells": [
  {
   "cell_type": "code",
   "execution_count": 2,
   "id": "russian-approach",
   "metadata": {},
   "outputs": [],
   "source": [
    "import os\n",
    "import pandas as pd\n",
    "from glob import glob\n",
    "import time\n",
    "import gc\n",
    "import feather\n",
    "\n",
    "pd.options.display.max_columns = 500\n",
    "pd.options.display.max_rows = 1000"
   ]
  },
  {
   "cell_type": "code",
   "execution_count": 3,
   "id": "split-growth",
   "metadata": {},
   "outputs": [],
   "source": [
    "OUTPUT_DIR = './bases_csv' # path dos arquivos txt"
   ]
  },
  {
   "cell_type": "code",
   "execution_count": 4,
   "id": "animal-dominant",
   "metadata": {},
   "outputs": [],
   "source": [
    "# Otimizando os tipos do DataFrame conforme seus resultados\n",
    "types = {\n",
    "    'competência': 'object',\n",
    "    'região': 'uint8',\n",
    "    'uf': 'uint8',\n",
    "    'município': 'uint32',\n",
    "    'seção': 'object',\n",
    "    'subclasse': 'uint32',\n",
    "    'saldomovimentação': 'uint32',\n",
    "    'cbo2002ocupação': 'uint32',\n",
    "    'categoria': 'uint16',\n",
    "    'graudeinstrução': 'Int8',\n",
    "    'idade': 'Int8',\n",
    "    'horascontratuais': 'uint8',\n",
    "    'raçacor': 'uint8',\n",
    "    'sexo': 'uint8',\n",
    "    'tipoempregador': 'uint8',\n",
    "    'tipoestabelecimento': 'uint8',\n",
    "    'tipomovimentação': 'uint8',\n",
    "    'tipodedeficiência': 'uint8',\n",
    "    'indtrabintermitente': 'uint8',\n",
    "    'indtrabparcial': 'uint8',\n",
    "    'salário': 'object',\n",
    "    'tamestabjan': 'uint8',\n",
    "    'indicadoraprendiz': 'uint8',\n",
    "    'fonte': 'uint8',\n",
    "    'Filename': 'object',\n",
    "}"
   ]
  },
  {
   "cell_type": "code",
   "execution_count": 5,
   "id": "brave-geology",
   "metadata": {},
   "outputs": [
    {
     "name": "stdout",
     "output_type": "stream",
     "text": [
      "44.74820351600647\n"
     ]
    }
   ],
   "source": [
    "#Criado um dataframe consolidado direto via pd.concat - 50s (21.114.606 registros Abr-Dez/2020)\n",
    "\n",
    "start = time.time()\n",
    "\n",
    "files = sorted(glob(OUTPUT_DIR+'/*.txt'))\n",
    "data = pd.concat(\n",
    "    (\n",
    "        pd.read_csv(\n",
    "            file,\n",
    "            sep=\";\",\n",
    "            low_memory=False,\n",
    "            header=0,\n",
    "            decimal=\",\",\n",
    "            dtype=types,\n",
    "        )\n",
    "        for file in files\n",
    "    ),\n",
    "    ignore_index=True,\n",
    ")\n",
    "\n",
    "end = time.time()\n",
    "\n",
    "print(end - start)"
   ]
  },
  {
   "cell_type": "code",
   "execution_count": 6,
   "id": "loving-constraint",
   "metadata": {},
   "outputs": [],
   "source": [
    "feather.write_dataframe(data, 'consolidado_abril_dezembro_2020.feather')"
   ]
  },
  {
   "cell_type": "code",
   "execution_count": null,
   "id": "rubber-comedy",
   "metadata": {},
   "outputs": [],
   "source": []
  }
 ],
 "metadata": {
  "kernelspec": {
   "display_name": "Python 3",
   "language": "python",
   "name": "python3"
  },
  "language_info": {
   "codemirror_mode": {
    "name": "ipython",
    "version": 3
   },
   "file_extension": ".py",
   "mimetype": "text/x-python",
   "name": "python",
   "nbconvert_exporter": "python",
   "pygments_lexer": "ipython3",
   "version": "3.8.8+"
  }
 },
 "nbformat": 4,
 "nbformat_minor": 5
}
